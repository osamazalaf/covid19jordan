{
 "cells": [
  {
   "cell_type": "markdown",
   "metadata": {
    "extensions": {
     "jupyter_dashboards": {
      "version": 1,
      "views": {
       "default_view": {
        "col": 0,
        "height": 14,
        "row": 0,
        "width": 12
       }
      }
     }
    }
   },
   "source": [
    "![Coronavirus particle Image](img.png)\n",
    "\n",
    "### Done By  \n",
    "* Dr.Nawras Shatnawi\n",
    "* Osama AbuAl-Zulof\n",
    "* Hamzah Al-Magarba\n",
    "* Hussam Al-Saaideh\n",
    "* Asem Al-Zaghateet"
   ]
  },
  {
   "cell_type": "code",
   "execution_count": 3,
   "metadata": {
    "extensions": {
     "jupyter_dashboards": {
      "version": 1,
      "views": {
       "default_view": {
        "hidden": true
       }
      }
     }
    }
   },
   "outputs": [],
   "source": [
    "# Imports packages\n",
    "\n",
    "from IPython.core.display import display, HTML \n",
    "from IPython.display import YouTubeVideo\n",
    "\n",
    "import ipywidgets \n",
    "from ipywidgets import interact\n",
    "\n",
    "import folium\n",
    "from folium import plugins\n",
    "\n",
    "import pandas as pd\n",
    "import numpy as np\n",
    "import json\n",
    "\n",
    "import plotly as py\n",
    "import plotly.graph_objects as go\n",
    "import plotly.express as px"
   ]
  },
  {
   "cell_type": "code",
   "execution_count": 4,
   "metadata": {
    "extensions": {
     "jupyter_dashboards": {
      "version": 1,
      "views": {
       "default_view": {
        "hidden": true
       }
      }
     }
    },
    "scrolled": true
   },
   "outputs": [],
   "source": [
    "# load Covid_data\n",
    "\n",
    "cd=pd.read_csv('https://raw.githubusercontent.com/osamazalaf/covid19jordan/main/data/covidmap.csv')\n",
    "cd1=pd.read_csv('https://raw.githubusercontent.com/osamazalaf/covid19jordan/main/data/covidmap.csv')\n",
    "\n",
    "cd2=pd.read_csv('https://raw.githubusercontent.com/CSSEGISandData/COVID-19/web-data/data/cases_country.csv')\n",
    "\n",
    "cd3=pd.read_csv('https://raw.githubusercontent.com/osamazalaf/covid19jordan/main/data/Covidss.csv')\n",
    "\n",
    "cd4=pd.read_csv('https://raw.githubusercontent.com/osamazalaf/covid19jordan/main/data/Coviddaily.csv')\n",
    "\n",
    "cd5=pd.read_csv('https://raw.githubusercontent.com/osamazalaf/covid19jordan/main/data/Monthly.csv')\n"
   ]
  },
  {
   "cell_type": "code",
   "execution_count": 5,
   "metadata": {
    "extensions": {
     "jupyter_dashboards": {
      "version": 1,
      "views": {
       "default_view": {
        "col": 0,
        "height": 4,
        "row": 14,
        "width": 9
       }
      }
     }
    },
    "scrolled": false
   },
   "outputs": [
    {
     "data": {
      "text/html": [
       "<div style = 'background-color: #111111; padding: 30px '><span style='color: red; font-size:24px;'> Confirmed: 722754</span><span style='color: #fff; font-size:24px;margin-left:23px;'> Deaths: 9203</span><span style='color: lightgreen; font-size:24px; margin-left:23px;'> Recovered: 710410</span><span style='color: lightblue; font-size:24px; margin-left:23px;'> Active: 3141</span></div>"
      ],
      "text/plain": [
       "<IPython.core.display.HTML object>"
      ]
     },
     "metadata": {},
     "output_type": "display_data"
    }
   ],
   "source": [
    "cd20=cd2[cd2.Country_Region == 'Jordan']\n",
    "\n",
    "# total number of confirmed, death , recovered and active cases\n",
    "confirmed_total = int(cd20['Confirmed'])\n",
    "deaths_total = int(cd20['Deaths'])\n",
    "recovered_total = int(cd20['Recovered'])\n",
    "active_total = int(cd20['Active'])\n",
    "\n",
    "# displaying the total stats\n",
    "\n",
    "display(HTML(\"<div style = 'background-color: #111111; padding: 30px '>\" +\n",
    "         \"<span style='color: red; font-size:24px;'> Confirmed: \"  + str(confirmed_total) +\"</span>\" +\n",
    "         \"<span style='color: #fff; font-size:24px;margin-left:23px;'> Deaths: \" + str(deaths_total) + \"</span>\"+\n",
    "         \"<span style='color: lightgreen; font-size:24px; margin-left:23px;'> Recovered: \" + str(recovered_total) + \"</span>\"+\n",
    "         \"<span style='color: lightblue; font-size:24px; margin-left:23px;'> Active: \" + str(active_total) + \"</span>\"+\n",
    "         \"</div>\"))\n"
   ]
  },
  {
   "cell_type": "code",
   "execution_count": 6,
   "metadata": {
    "extensions": {
     "jupyter_dashboards": {
      "version": 1,
      "views": {
       "default_view": {
        "col": 0,
        "height": 14,
        "row": 18,
        "width": 7
       }
      }
     }
    },
    "scrolled": false
   },
   "outputs": [
    {
     "ename": "NameError",
     "evalue": "name 'folium' is not defined",
     "output_type": "error",
     "traceback": [
      "\u001b[0;31m---------------------------------------------------------------------------\u001b[0m",
      "\u001b[0;31mNameError\u001b[0m                                 Traceback (most recent call last)",
      "\u001b[0;32m<ipython-input-6-3d7a6aef19b4>\u001b[0m in \u001b[0;36m<module>\u001b[0;34m\u001b[0m\n\u001b[1;32m      2\u001b[0m \u001b[0;34m\u001b[0m\u001b[0m\n\u001b[1;32m      3\u001b[0m \u001b[0;31m# Create map with location start point, zoom level and distance scale\u001b[0m\u001b[0;34m\u001b[0m\u001b[0;34m\u001b[0m\u001b[0;34m\u001b[0m\u001b[0m\n\u001b[0;32m----> 4\u001b[0;31m \u001b[0mmap\u001b[0m \u001b[0;34m=\u001b[0m \u001b[0mfolium\u001b[0m\u001b[0;34m.\u001b[0m\u001b[0mMap\u001b[0m\u001b[0;34m(\u001b[0m\u001b[0mlocation\u001b[0m\u001b[0;34m=\u001b[0m\u001b[0;34m[\u001b[0m\u001b[0;36m31.5\u001b[0m\u001b[0;34m,\u001b[0m\u001b[0;36m36.5\u001b[0m\u001b[0;34m]\u001b[0m\u001b[0;34m,\u001b[0m \u001b[0mzoom_start\u001b[0m\u001b[0;34m=\u001b[0m\u001b[0;36m6.50\u001b[0m\u001b[0;34m,\u001b[0m\u001b[0mcontrol_scale\u001b[0m\u001b[0;34m=\u001b[0m\u001b[0;32mTrue\u001b[0m\u001b[0;34m)\u001b[0m\u001b[0;34m\u001b[0m\u001b[0;34m\u001b[0m\u001b[0m\n\u001b[0m\u001b[1;32m      5\u001b[0m \u001b[0;34m\u001b[0m\u001b[0m\n\u001b[1;32m      6\u001b[0m \u001b[0;31m# load geo_json\u001b[0m\u001b[0;34m\u001b[0m\u001b[0;34m\u001b[0m\u001b[0;34m\u001b[0m\u001b[0m\n",
      "\u001b[0;31mNameError\u001b[0m: name 'folium' is not defined"
     ]
    }
   ],
   "source": [
    "cd1[\"Confirmed\"]=np.log(cd1[\"Confirmed\"])\n",
    "\n",
    "# Create map with location start point, zoom level and distance scale\n",
    "map = folium.Map(location=[31.5,36.5], zoom_start=6.50,control_scale=True)\n",
    "                \n",
    "# load geo_json\n",
    "country_info = json.load(open('gov.json', encoding='utf-8'))\n",
    "\n",
    "\n",
    "choropleth = folium.Choropleth(\n",
    "    geo_data=country_info,\n",
    "    name='Jordan Confirmed Cases',\n",
    "    data=cd1,\n",
    "    columns=['OBJECTID', 'Confirmed'],\n",
    "    # see folium.Choropleth? for details on key_on\n",
    "    key_on='feature.properties.OBJECTID',\n",
    "    fill_color='YlOrRd',\n",
    "    fill_opacity=0.5,\n",
    "    line_opacity=0.5,\n",
    "    legend_name='Confirmed Cases',\n",
    "    highlight=True\n",
    ").add_to(map)\n",
    "\n",
    "\n",
    "tooltip_text = []\n",
    "for i in range(0,len(cd)):\n",
    "    tooltip_text.append(\"<li><span style='color: black; font-size:16px;'>City: \"+str(cd.iloc[i]['City'])+\n",
    "                          \"<li><span style='color: black; font-size:16px;'>Confirmed: \"+str(cd.iloc[i]['Confirmed'])+\n",
    "                           \"<li><span style='color: black; font-size:16px;'>Today Confirmed Cases: \"+str(cd.iloc[i]['today'])+\n",
    "                           \"<li><span style='color: black; font-size:16px;'>Top Confirmed Cases: \"+str(cd.iloc[i]['top Confirmed']))\n",
    "tooltip_text\n",
    "           \n",
    "# Append a tooltip column with customised text\n",
    "for i in range(0,len(tooltip_text)):\n",
    "    country_info['features'][i]['properties']['tooltip1'] = tooltip_text[i]\n",
    "    \n",
    "    \n",
    "choropleth.geojson.add_child(\n",
    "    folium.features.GeoJsonTooltip(['tooltip1'], labels=False))\n",
    "  \n",
    "\n",
    "# add tiles to map\n",
    "folium.raster_layers.TileLayer('Open Street Map').add_to(map)\n",
    "folium.raster_layers.TileLayer('Stamen Terrain').add_to(map)\n",
    "  \n",
    "    \n",
    "# measure control\n",
    "measure_control = plugins.MeasureControl(position='topleft', \n",
    "                                         active_color='red', \n",
    "                                         completed_color='red', \n",
    "                                         primary_length_unit='kilometers')\n",
    "\n",
    "# add measure control to map\n",
    "map.add_child(measure_control)\n",
    "\n",
    "# draw tools\n",
    "draw = plugins.Draw(export=True)\n",
    "\n",
    "# add draw tools to map\n",
    "draw.add_to(map)\n",
    "\n",
    "\n",
    "minimap=plugins.MiniMap(toggle_display=True,auto_toggle_display=True,minimized=False)\n",
    "map.add_child(minimap)\n",
    "\n",
    "\n",
    "# add full screen button to map\n",
    "plugins.Fullscreen(position='bottomright').add_to(map)\n",
    "\n",
    "folium.LayerControl(position='bottomright').add_to(map)\n",
    "\n",
    "\n",
    "# put in path.html\n",
    "#map.save('map.html')\n",
    "\n",
    "# display map\n",
    "display(map)\n"
   ]
  },
  {
   "cell_type": "code",
   "execution_count": 9,
   "metadata": {
    "extensions": {
     "jupyter_dashboards": {
      "version": 1,
      "views": {
       "default_view": {
        "col": 0,
        "height": 17,
        "row": 32,
        "width": 8
       }
      }
     }
    },
    "scrolled": false
   },
   "outputs": [
    {
     "data": {
      "application/vnd.jupyter.widget-view+json": {
       "model_id": "3b73c48ce3fc449b97c971a326daff3c",
       "version_major": 2,
       "version_minor": 0
      },
      "text/plain": [
       "interactive(children=(Dropdown(description='City', options=('Jordan', 'Mafraq', 'Irbid', 'Jerash', 'Ajloun', '…"
      ]
     },
     "metadata": {},
     "output_type": "display_data"
    }
   ],
   "source": [
    "def plot_cases_of_a_country(City):\n",
    "    labels = ['confirmed']\n",
    "    colors = ['red']\n",
    "    mode_size = [6, 8]\n",
    "    line_size = [1, 2]\n",
    "    \n",
    "    df_list = [cd3]\n",
    "    \n",
    "    fig = go.Figure();\n",
    "    \n",
    "    for i, df in enumerate(df_list):\n",
    "        \n",
    "        if City == 'Jordan':\n",
    "            x_data = np.array(list(df.iloc[:,:].columns))\n",
    "            y_data = np.sum(np.asarray(df[df['City'] == City].iloc[:,:]),axis = 0)\n",
    "            \n",
    "        else:    \n",
    "            x_data = np.array(list(df.iloc[:, :].columns))\n",
    "            y_data = np.sum(np.asarray(df[df['City'] == City].iloc[:,:]),axis = 0)\n",
    "        \n",
    "        \n",
    "        fig.add_trace(go.Scatter(x=x_data, y=y_data, mode='lines+markers',dx=True,\n",
    "        name=labels[i],\n",
    "        line=dict(color=colors[i], width=line_size[i]),\n",
    "        connectgaps=True));\n",
    "    \n",
    "    fig.update_layout(\n",
    "        title=\"<span style='color: white; font-size:25px;'>Daily Confirmed COVID19 Cases of \" + City,\n",
    "        xaxis_title='Date',\n",
    "        yaxis_title='No. of Confirmed Cases',\n",
    "        height=700,paper_bgcolor='#111111',plot_bgcolor='#111111',font=dict(color='WHITE'),\n",
    "        xaxis=dict(showgrid=False),yaxis=dict(showgrid=False));\n",
    "    \n",
    "    fig.show();\n",
    "    \n",
    "    \n",
    "s=ipywidgets.Dropdown(options=['Jordan','Mafraq','Irbid','Jerash','Ajloun','Zarqa','Amman','Balqa','Madaba',\n",
    "                               'Karak','Tafilah','Maan','Aqaba'],\n",
    "                     value='Jordan',description='City',disabled=False) \n",
    "\n",
    "ipywidgets.interact(plot_cases_of_a_country, City=s)\n",
    "\n",
    "ipywLayout = ipywidgets.Layout(border='solid 2px green')\n"
   ]
  },
  {
   "cell_type": "code",
   "execution_count": 10,
   "metadata": {
    "scrolled": true
   },
   "outputs": [
    {
     "data": {
      "application/vnd.jupyter.widget-view+json": {
       "model_id": "b45e3f7d684a4760bb5e9d930b31b206",
       "version_major": 2,
       "version_minor": 0
      },
      "text/plain": [
       "HBox(children=(Output(), Output()))"
      ]
     },
     "metadata": {},
     "output_type": "display_data"
    }
   ],
   "source": [
    "Salidapie = ipywidgets.Output()\n",
    "\n",
    "with Salidapie:\n",
    "    fig3 = px.pie(cd, values='Confirmed', names='City', color=\"Confirmed\", hole=0.3,height=475)\n",
    "\n",
    "    fig3.update_traces(textinfo=\"label+percent\", insidetextfont=dict(color=\"white\"))\n",
    "\n",
    "    #fig3.update_layout(legend={\"itemclick\":'toggle'})\n",
    "\n",
    "    fig3.update_layout(title=\"Cases Percentage of Covid19 in JoCities\",\n",
    "                       paper_bgcolor='#111111',font=dict(color='WHITE'))\n",
    "    \n",
    "    fig3 = go.FigureWidget(fig3)\n",
    "    display(fig3)\n",
    "    \n",
    "    \n",
    "Salidapies = ipywidgets.Output()    \n",
    "    \n",
    "with Salidapies:\n",
    "    v1=int(cd20['Confirmed'])/10285867\n",
    "    v2=int(cd20['Deaths'])/10285867\n",
    "    v3=int(cd20['Recovered'])/10285867\n",
    "    v4=(9579512/10285867)\n",
    "    v=[v1,v2,v3,v4]\n",
    "\n",
    "    fig33 = px.pie(values=v, names=['Confirmed','Deaths',\"Recovered\",\"Non Confirmed\"] ,hole=0.3,height=475)\n",
    "\n",
    "    fig33.update_traces(textinfo=\"label+percent\", insidetextfont=dict(color=\"white\"),hovertemplate=None,hoverinfo='none')\n",
    "\n",
    "    #fig3.update_layout(legend={\"itemclick\":'toggle'})\n",
    "\n",
    "    fig33.update_layout(title=\"Cases Percentage of Covid-19 in Jordan\",\n",
    "                       paper_bgcolor='#111111',font=dict(color='WHITE'))\n",
    "    \n",
    "    fig33 = go.FigureWidget(fig33)\n",
    "    display(fig33)\n",
    "\n",
    "    \n",
    "Salidas = ipywidgets.HBox([Salidapie,Salidapies])\n",
    "\n",
    "display(Salidas)\n"
   ]
  },
  {
   "cell_type": "code",
   "execution_count": 11,
   "metadata": {
    "extensions": {
     "jupyter_dashboards": {
      "version": 1,
      "views": {
       "default_view": {
        "col": 0,
        "height": 17,
        "row": 69,
        "width": 9
       }
      }
     }
    },
    "scrolled": false
   },
   "outputs": [
    {
     "data": {
      "application/vnd.jupyter.widget-view+json": {
       "model_id": "fbaa23cc02044c73a6945938bb9d375e",
       "version_major": 2,
       "version_minor": 0
      },
      "text/plain": [
       "interactive(children=(Dropdown(description='Month', options=('All', 'Sep(20)', 'Oct(20)', 'Nov(20)', 'Dec(20)'…"
      ]
     },
     "metadata": {},
     "output_type": "display_data"
    }
   ],
   "source": [
    "def pic(m):\n",
    "    if m=='All':\n",
    "        fig5 = px.bar(cd5, x='Confirmed', y='City', color='City',height=700,log_x=True)\n",
    "        fig5.update_layout(title=\"<span style='color: white; font-size:25px;'> The Confirmed Cases of Covid-19 in Jordan\",\n",
    "                    plot_bgcolor='#111111',paper_bgcolor='#111111',\n",
    "                           font=dict(color='WHITE'),xaxis=dict(showgrid=False))\n",
    "        fig5 = go.FigureWidget(fig5)\n",
    "        display(fig5)\n",
    "    \n",
    "    elif m=='Sep(20)':\n",
    "        fig5 = px.bar(cd5, x='Sep(20)', y='City', color='City',height=700,log_x=True)\n",
    "        fig5.update_layout(title=\"<span style='color: white; font-size:25px;'>In \"+m+\n",
    "                \"<span style='color: white; font-size:25px;'> The Confirmed Cases of Covid-19\",plot_bgcolor='#111111',\n",
    "                        paper_bgcolor='#111111',font=dict(color='WHITE'),xaxis=dict(showgrid=False))\n",
    "        fig5 = go.FigureWidget(fig5)\n",
    "        display(fig5)\n",
    "        \n",
    "    elif m=='Oct(20)':\n",
    "        fig5 = px.bar(cd5, x='Oct(20)', y='City', color='City',height=700,log_x=True)\n",
    "        fig5.update_layout(title=\"<span style='color: white; font-size:25px;'>In \"+m+\n",
    "                \"<span style='color: white; font-size:25px;'> The Confirmed Cases of Covid-19\",plot_bgcolor='#111111',\n",
    "                        paper_bgcolor='#111111',font=dict(color='WHITE'),xaxis=dict(showgrid=False))\n",
    "        fig5 = go.FigureWidget(fig5)\n",
    "        display(fig5)\n",
    "        \n",
    "    elif m=='Nov(20)':\n",
    "        fig5 = px.bar(cd5, x='Nov(20)', y='City', color='City',height=700,log_x=True)\n",
    "        fig5.update_layout(title=\"<span style='color: white; font-size:25px;'>In \"+m+\n",
    "                \"<span style='color: white; font-size:25px;'> The Confirmed Cases of Covid-19\",plot_bgcolor='#111111',\n",
    "                        paper_bgcolor='#111111',font=dict(color='WHITE'),xaxis=dict(showgrid=False))\n",
    "        fig5 = go.FigureWidget(fig5)\n",
    "        display(fig5)\n",
    "        \n",
    "    elif m=='Dec(20)':\n",
    "        fig5 = px.bar(cd5, x='Dec(20)', y='City', color='City',height=700,log_x=True)\n",
    "        fig5.update_layout(title=\"<span style='color: white; font-size:25px;'>In \"+m+\n",
    "                \"<span style='color: white; font-size:25px;'> The Confirmed Cases of Covid-19\",plot_bgcolor='#111111',\n",
    "                        paper_bgcolor='#111111',font=dict(color='WHITE'),xaxis=dict(showgrid=False))\n",
    "        fig5 = go.FigureWidget(fig5)\n",
    "        display(fig5)\n",
    "        \n",
    "    elif m=='Jan(21)':\n",
    "        fig5 = px.bar(cd5, x='Jan(21)',y='City', color='City',height=700,log_x=True)\n",
    "        fig5.update_layout(title=\"<span style='color: white; font-size:25px;'>In \"+m+\n",
    "                \"<span style='color: white; font-size:25px;'> The Confirmed Cases of Covid-19\",plot_bgcolor='#111111',\n",
    "                        paper_bgcolor='#111111',font=dict(color='WHITE'),xaxis=dict(showgrid=False))\n",
    "        fig5 = go.FigureWidget(fig5)\n",
    "        display(fig5)\n",
    "        \n",
    "    elif m=='Feb(21)':\n",
    "        fig5 = px.bar(cd5, x='Feb(21)', y='City', color='City',height=700,log_x=True)\n",
    "        fig5.update_layout(title=\"<span style='color: white; font-size:25px;'>In \"+m+\n",
    "                \"<span style='color: white; font-size:25px;'> The Confirmed Cases of Covid-19 in Jordan\",plot_bgcolor='#111111',\n",
    "                        paper_bgcolor='#111111',font=dict(color='WHITE'),xaxis=dict(showgrid=False))\n",
    "        fig5 = go.FigureWidget(fig5)\n",
    "        display(fig5)\n",
    "        \n",
    "    elif m=='Mar(21)':\n",
    "        fig5 = px.bar(cd5, x='Mar(21)', y='City', color='City',height=700,log_x=True)\n",
    "        fig5.update_layout(title=\"<span style='color: white; font-size:25px;'>In \"+m+\n",
    "                \"<span style='color: white; font-size:25px;'> The Confirmed Cases of Covid-19 in Jordan\",plot_bgcolor='#111111',\n",
    "                        paper_bgcolor='#111111',font=dict(color='WHITE'),xaxis=dict(showgrid=False))\n",
    "        fig5 = go.FigureWidget(fig5)\n",
    "        display(fig5)\n",
    "        \n",
    "    elif m=='Apr(21)':\n",
    "        fig5 = px.bar(cd5, x='Apr(21)', y='City', color='City',height=700,log_x=True)\n",
    "        fig5.update_layout(title=\"<span style='color: white; font-size:25px;'>In \"+m+\n",
    "                \"<span style='color: white; font-size:25px;'> The Confirmed Cases of Covid-19 in Jordan\",plot_bgcolor='#111111',\n",
    "                        paper_bgcolor='#111111',font=dict(color='WHITE'),xaxis=dict(showgrid=False))\n",
    "        fig5 = go.FigureWidget(fig5)\n",
    "        display(fig5)\n",
    "        \n",
    "    elif m=='May(21)':\n",
    "        fig5 = px.bar(cd5, x='May(21)', y='City', color='City',height=700,log_x=True)\n",
    "        fig5.update_layout(title=\"<span style='color: white; font-size:25px;'>In \"+m+\n",
    "                \"<span style='color: white; font-size:25px;'> The Confirmed Cases of Covid-19 in Jordan\",plot_bgcolor='#111111',\n",
    "                        paper_bgcolor='#111111',font=dict(color='WHITE'),xaxis=dict(showgrid=False))\n",
    "        fig5 = go.FigureWidget(fig5)\n",
    "        display(fig5)\n",
    "        \n",
    "\n",
    "d=ipywidgets.Dropdown(options=['All','Sep(20)','Oct(20)','Nov(20)','Dec(20)','Jan(21)','Feb(21)','Mar(21)','Apr(21)','May(21)'],\n",
    "                     value='All',description='Month',disabled=False)\n",
    "\n",
    "ipywidgets.interact(pic,m=d)\n",
    "ipywLayout = ipywidgets.Layout(border='solid 2px green')\n"
   ]
  },
  {
   "cell_type": "code",
   "execution_count": 12,
   "metadata": {
    "extensions": {
     "jupyter_dashboards": {
      "version": 1,
      "views": {
       "default_view": {
        "col": 0,
        "height": 18,
        "row": 50,
        "width": 12
       }
      }
     }
    },
    "scrolled": false
   },
   "outputs": [
    {
     "data": {
      "application/vnd.jupyter.widget-view+json": {
       "model_id": "0f9dafc9fcf74c0ebec845e613d900ae",
       "version_major": 2,
       "version_minor": 0
      },
      "text/plain": [
       "interactive(children=(Dropdown(description='Range', options=('All Cases', '0<Cases<250', '250<Cases<500', '500…"
      ]
     },
     "metadata": {},
     "output_type": "display_data"
    }
   ],
   "source": [
    "c1=cd4[cd4['Confirmed']>1000]\n",
    "c2= cd4[(cd4['Confirmed']>250) & (cd4['Confirmed']<500)]\n",
    "c3= cd4[(cd4['Confirmed']>500) & (cd4['Confirmed']<1000)]\n",
    "c4= cd4[(cd4['Confirmed']>0) & (cd4['Confirmed']<250)]\n",
    "\n",
    "\n",
    "def buble(Cases):\n",
    "    if Cases=='500<Cases<1000' :\n",
    "        fig2 = px.scatter(c3, y=\"Date\", x=\"Confirmed\",\n",
    "                size=\"Confirmed\", color=\"City\",\n",
    "                log_x=True,size_max=40,title=\"<span style='color: white; font-size:25px;'>Jordan Covid19 Daily Cases Compare\",\n",
    "                          height=700)\n",
    "        fig2.update_layout(paper_bgcolor='#111111',plot_bgcolor='#111111',font=dict(color='WHITE'),\n",
    "        xaxis=dict(showgrid=False),yaxis=dict(showgrid=False))\n",
    "        \n",
    "        fig2=go.FigureWidget(fig2)\n",
    "        display(fig2)\n",
    "        \n",
    "    elif Cases=='Cases>1000':\n",
    "        fig2 = px.scatter(c1, y=\"Date\", x=\"Confirmed\",\n",
    "                size=\"Confirmed\", color=\"City\",\n",
    "                log_x=True,size_max=45,title=\"<span style='color: white; font-size:25px;'>Jordan Covid19 Daily Cases Compare\",\n",
    "                          height=700)\n",
    "        fig2.update_layout(paper_bgcolor='#111111',plot_bgcolor='#111111',font=dict(color='WHITE'),\n",
    "        xaxis=dict(showgrid=False),yaxis=dict(showgrid=False))\n",
    "       \n",
    "        fig2=go.FigureWidget(fig2)\n",
    "        display(fig2)\n",
    "        \n",
    "    elif Cases=='All Cases':\n",
    "        fig2 = px.scatter(cd4, y=\"Date\", x=\"Confirmed\",\n",
    "                size=\"Confirmed\", color=\"City\",\n",
    "                log_x=True,size_max=32.5,title=\"<span style='color: white; font-size:25px;'>Jordan Covid19 Daily Cases Compare\",\n",
    "                          height=725)\n",
    "        fig2.update_layout(paper_bgcolor='#111111',plot_bgcolor='#111111',font=dict(color='WHITE'),\n",
    "        xaxis=dict(showgrid=False),yaxis=dict(showgrid=False))\n",
    "       \n",
    "        fig2=go.FigureWidget(fig2)\n",
    "        display(fig2)\n",
    "        \n",
    "    elif Cases=='250<Cases<500':\n",
    "        fig2 = px.scatter(c2, y=\"Date\", x=\"Confirmed\",\n",
    "                size=\"Confirmed\", color=\"City\",\n",
    "                log_x=True,size_max=35,title=\"<span style='color: white; font-size:25px;'>Jordan Covid19 Daily Cases Compare\",\n",
    "                          height=700)\n",
    "        fig2.update_layout(paper_bgcolor='#111111',plot_bgcolor='#111111',font=dict(color='WHITE'),\n",
    "        xaxis=dict(showgrid=False),yaxis=dict(showgrid=False))\n",
    "       \n",
    "        fig2=go.FigureWidget(fig2)\n",
    "        display(fig2)\n",
    "        \n",
    "    elif Cases=='0<Cases<250':\n",
    "        fig2 = px.scatter(c4, y=\"Date\", x=\"Confirmed\",\n",
    "                size=\"Confirmed\", color=\"City\",\n",
    "                log_x=False,size_max=22.5,title=\"<span style='color: white; font-size:25px;'>Jordan Covid19 Daily Cases Compare\",\n",
    "                          height=725)\n",
    "        fig2.update_layout(paper_bgcolor='#111111',plot_bgcolor='#111111',font=dict(color='WHITE'),\n",
    "        xaxis=dict(showgrid=False),yaxis=dict(showgrid=False))\n",
    "       \n",
    "        fig2=go.FigureWidget(fig2)\n",
    "        display(fig2)\n",
    "        \n",
    "        \n",
    "f=ipywidgets.Dropdown(options=['All Cases','0<Cases<250','250<Cases<500','500<Cases<1000','Cases>1000'],\n",
    "                     value='All Cases',description='Range',disabled=False)\n",
    "\n",
    "ipywidgets.interact(buble,Cases=f)\n",
    "       \n",
    "ipywLayout = ipywidgets.Layout(border='solid 2px green')\n"
   ]
  },
  {
   "cell_type": "markdown",
   "metadata": {
    "extensions": {
     "jupyter_dashboards": {
      "version": 1,
      "views": {
       "default_view": {
        "col": 8,
        "height": 19,
        "row": 106,
        "width": 4
       }
      }
     }
    }
   },
   "source": [
    "### To See World Active Cases Put (N < Zero)"
   ]
  },
  {
   "cell_type": "code",
   "execution_count": 13,
   "metadata": {
    "extensions": {
     "jupyter_dashboards": {
      "version": 1,
      "views": {
       "default_view": {
        "col": 0,
        "height": 19,
        "row": 86,
        "width": 9
       }
      }
     }
    },
    "scrolled": false
   },
   "outputs": [
    {
     "data": {
      "application/vnd.jupyter.widget-view+json": {
       "model_id": "eb7613c1d7fa44be8186aa54e44c0ff7",
       "version_major": 2,
       "version_minor": 0
      },
      "text/plain": [
       "interactive(children=(IntSlider(value=125000, description='N', max=5750000, min=-5500000), Output()), _dom_cla…"
      ]
     },
     "metadata": {},
     "output_type": "display_data"
    }
   ],
   "source": [
    "def pics(N):\n",
    "    if N>0:\n",
    "        cd30=cd2[cd2['Active']<N]\n",
    "        fig4 = go.Figure(data=go.Choropleth(\n",
    "            locations=cd30['Country_Region'], # Spatial coordinates\n",
    "            z = cd30['Active'].astype(float), # Data to be color-coded\n",
    "            locationmode = 'country names', # set of locations match entries in `locations`\n",
    "            colorscale='YLOrRd',zmin=0,zmax=N));\n",
    "        \n",
    "        fig4.update_layout(\n",
    "        paper_bgcolor='#111111',font=dict(color='WHITE'),geo=dict(bgcolor='#111111'),\n",
    "        title_text = \"<span style='color: white; font-size:25px;'>Active Covid-19 Cases Last Day In Asia\",\n",
    "        geo_scope='asia',height=500);\n",
    "        \n",
    "        fig4.update_geos(fitbounds='locations',visible=False);\n",
    "        fig4=go.FigureWidget(fig4);\n",
    "        fig4.show();\n",
    "        \n",
    "    elif N<0:\n",
    "        cd30=cd2[cd2['Active']<-N]\n",
    "        fig4 = go.Figure(data=go.Choropleth(\n",
    "            locations=cd30['Country_Region'], # Spatial coordinates\n",
    "            z = cd30['Active'].astype(float), # Data to be color-coded\n",
    "            locationmode = 'country names', # set of locations match entries in `locations`\n",
    "            colorscale='YLOrRd',zmin=0,zmax=-N));\n",
    "        \n",
    "        fig4.update_layout(\n",
    "        paper_bgcolor='#111111',font=dict(color='WHITE'),geo=dict(bgcolor='#111111'),\n",
    "        title_text = \"<span style='color: white; font-size:25px;'>Active Covid-19 Cases Last Day In World\",\n",
    "        geo_scope='world');\n",
    "        \n",
    "        fig4.update_geos(fitbounds='locations',visible=False);\n",
    "        fig4=go.FigureWidget(fig4);\n",
    "        fig4.show();\n",
    "        \n",
    "\n",
    "        \n",
    "ipywidgets.interact(pics,N=(-5500000,5750000))\n",
    "\n",
    "ipywLayout = ipywidgets.Layout(border='solid 2px green')\n"
   ]
  },
  {
   "cell_type": "code",
   "execution_count": 14,
   "metadata": {
    "extensions": {
     "jupyter_dashboards": {
      "version": 1,
      "views": {
       "default_view": {
        "col": 8,
        "height": 15,
        "row": 33,
        "width": 4
       }
      }
     }
    },
    "scrolled": false
   },
   "outputs": [
    {
     "data": {
      "application/vnd.jupyter.widget-view+json": {
       "model_id": "2872412ea1da48dbbe33a84363c82a1a",
       "version_major": 2,
       "version_minor": 0
      },
      "text/plain": [
       "HBox(children=(Output(), Output()))"
      ]
     },
     "metadata": {},
     "output_type": "display_data"
    }
   ],
   "source": [
    "SalidaVideo= ipywidgets.Output()\n",
    "\n",
    "with SalidaVideo:\n",
    "    display(YouTubeVideo(id='7e3oAU419k8',height=450))\n",
    "    \n",
    "SalidaVideos = ipywidgets.Output()    \n",
    "    \n",
    "with SalidaVideos:\n",
    "    display(YouTubeVideo(id='M0BRsaIsr30',height=450))\n",
    "\n",
    "Salidas = ipywidgets.HBox([SalidaVideo,SalidaVideos])\n",
    "\n",
    "display(Salidas)\n"
   ]
  },
  {
   "cell_type": "markdown",
   "metadata": {
    "extensions": {
     "jupyter_dashboards": {
      "version": 1,
      "views": {
       "default_view": {
        "col": 8,
        "height": 19,
        "row": 106,
        "width": 4
       }
      }
     }
    }
   },
   "source": [
    "## What is COVID-19?\n",
    "[Covid wikipedia](https://en.wikipedia.org/wiki/Coronavirus_disease_2019)\n",
    "> Coronaviruses are a large family of viruses that may cause respiratory illnesses in humans ranging from common colds to more severe conditions such as Severe Acute Respiratory Syndrome (SARS) and Middle Eastern Respiratory Syndrome (MERS).1\n",
    "'Novel coronavirus' is a new, previously unidentified strain of coronavirus. The novel coronavirus involved in the current outbreak has been named SARS-CoV-2 by the World Health Organization (WHO). The disease it causes has been named “coronavirus disease 2019” (or “COVID-19”).`\n",
    "\n",
    "* Data Loading From [Ministry of Health The Hashemite kingdom of Jordan](https://corona.moh.gov.jo/ar)\n",
    "\n",
    "\n",
    "## Symptoms\n",
    "People may be sick with the virus for 1 to 14 days before developing symptoms. The most common symptoms of coronavirus disease (COVID-19) are fever, tiredness, and dry cough. Most people (about 80%) recover from the disease without needing special treatment.\n",
    "* cough\n",
    "* fever\n",
    "* tiredness\n",
    "* difficulty in breathing(severe cases)\n",
    "\n",
    "\n",
    "\n",
    "## More Info on COVID-19 for Other Countries:\n",
    "* [www.worldometers.info/coronavirus](https://www.worldometers.info/coronavirus/)\n",
    "\n",
    "\n",
    "## Our World Covid Tracker App \n",
    "* [Download World Covid Tracker(in Pc)](https://drive.google.com/u/1/uc?id=169NAaty25FRcmwHABiLtjjoDusOmwxFa&export=download)\n",
    "\n",
    "\n",
    "\n",
    "## If You Want The Site Send You Lastest Info about Covid-19 in Jordan Via Email\n",
    "* [Please Enter Your Email Here & FeedBack](https://docs.google.com/forms/d/1j5K6ow5ru9q-Lfd3Qd5LGbcUaHOv5r-8YfOfJmQpWQk/edit)\n",
    "\n",
    "\n",
    "## Contact Us By The Following Email\n",
    "   * Coviid19jo@gmail.com\n",
    "\n",
    "### Done By\n",
    "* Osama AbuAl-Zulof\n",
    "* Hamzah Al-Magarba\n",
    "* Hussam Al-Saaideh\n",
    "* Asem Al-Zaghateet\n",
    "\n",
    "### Supervision By \n",
    "* Dr.Nawras Shatnawi\n"
   ]
  }
 ],
 "metadata": {
  "extensions": {
   "jupyter_dashboards": {
    "activeView": "default_view",
    "version": 1,
    "views": {
     "default_view": {
      "cellMargin": 10,
      "defaultCellHeight": 40,
      "maxColumns": 12,
      "name": "active_view",
      "type": "grid"
     }
    }
   }
  },
  "kernelspec": {
   "display_name": "Python 3",
   "language": "python",
   "name": "python3"
  },
  "language_info": {
   "codemirror_mode": {
    "name": "ipython",
    "version": 3
   },
   "file_extension": ".py",
   "mimetype": "text/x-python",
   "name": "python",
   "nbconvert_exporter": "python",
   "pygments_lexer": "ipython3",
   "version": "3.9.2+"
  },
  "widgets": {
   "application/vnd.jupyter.widget-state+json": {
    "state": {},
    "version_major": 2,
    "version_minor": 0
   }
  }
 },
 "nbformat": 4,
 "nbformat_minor": 4
}
